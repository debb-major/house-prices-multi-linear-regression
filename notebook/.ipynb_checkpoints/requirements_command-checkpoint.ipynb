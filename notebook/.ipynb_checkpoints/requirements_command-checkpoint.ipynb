{
 "cells": [
  {
   "cell_type": "code",
   "execution_count": 3,
   "id": "30c2796c-d293-449b-8600-ae061da2f5de",
   "metadata": {},
   "outputs": [
    {
     "name": "stdout",
     "output_type": "stream",
     "text": [
      "Requirement already satisfied: pipreqs in c:\\users\\useer\\anaconda3\\lib\\site-packages (0.5.0)\n",
      "Requirement already satisfied: docopt==0.6.2 in c:\\users\\useer\\anaconda3\\lib\\site-packages (from pipreqs) (0.6.2)\n",
      "Requirement already satisfied: ipython==8.12.3 in c:\\users\\useer\\anaconda3\\lib\\site-packages (from pipreqs) (8.12.3)\n",
      "Requirement already satisfied: nbconvert<8.0.0,>=7.11.0 in c:\\users\\useer\\anaconda3\\lib\\site-packages (from pipreqs) (7.16.4)\n",
      "Requirement already satisfied: yarg==0.1.9 in c:\\users\\useer\\anaconda3\\lib\\site-packages (from pipreqs) (0.1.9)\n",
      "Requirement already satisfied: backcall in c:\\users\\useer\\anaconda3\\lib\\site-packages (from ipython==8.12.3->pipreqs) (0.2.0)\n",
      "Requirement already satisfied: decorator in c:\\users\\useer\\anaconda3\\lib\\site-packages (from ipython==8.12.3->pipreqs) (5.1.1)\n",
      "Requirement already satisfied: jedi>=0.16 in c:\\users\\useer\\anaconda3\\lib\\site-packages (from ipython==8.12.3->pipreqs) (0.19.1)\n",
      "Requirement already satisfied: matplotlib-inline in c:\\users\\useer\\anaconda3\\lib\\site-packages (from ipython==8.12.3->pipreqs) (0.1.6)\n",
      "Requirement already satisfied: pickleshare in c:\\users\\useer\\anaconda3\\lib\\site-packages (from ipython==8.12.3->pipreqs) (0.7.5)\n",
      "Requirement already satisfied: prompt-toolkit!=3.0.37,<3.1.0,>=3.0.30 in c:\\users\\useer\\anaconda3\\lib\\site-packages (from ipython==8.12.3->pipreqs) (3.0.43)\n",
      "Requirement already satisfied: pygments>=2.4.0 in c:\\users\\useer\\anaconda3\\lib\\site-packages (from ipython==8.12.3->pipreqs) (2.15.1)\n",
      "Requirement already satisfied: stack-data in c:\\users\\useer\\anaconda3\\lib\\site-packages (from ipython==8.12.3->pipreqs) (0.2.0)\n",
      "Requirement already satisfied: traitlets>=5 in c:\\users\\useer\\anaconda3\\lib\\site-packages (from ipython==8.12.3->pipreqs) (5.14.3)\n",
      "Requirement already satisfied: colorama in c:\\users\\useer\\anaconda3\\lib\\site-packages (from ipython==8.12.3->pipreqs) (0.4.6)\n",
      "Requirement already satisfied: requests in c:\\users\\useer\\anaconda3\\lib\\site-packages (from yarg==0.1.9->pipreqs) (2.32.3)\n",
      "Requirement already satisfied: beautifulsoup4 in c:\\users\\useer\\anaconda3\\lib\\site-packages (from nbconvert<8.0.0,>=7.11.0->pipreqs) (4.12.3)\n",
      "Requirement already satisfied: bleach!=5.0.0 in c:\\users\\useer\\anaconda3\\lib\\site-packages (from nbconvert<8.0.0,>=7.11.0->pipreqs) (4.1.0)\n",
      "Requirement already satisfied: defusedxml in c:\\users\\useer\\anaconda3\\lib\\site-packages (from nbconvert<8.0.0,>=7.11.0->pipreqs) (0.7.1)\n",
      "Requirement already satisfied: jinja2>=3.0 in c:\\users\\useer\\anaconda3\\lib\\site-packages (from nbconvert<8.0.0,>=7.11.0->pipreqs) (3.1.4)\n",
      "Requirement already satisfied: jupyter-core>=4.7 in c:\\users\\useer\\anaconda3\\lib\\site-packages (from nbconvert<8.0.0,>=7.11.0->pipreqs) (5.7.2)\n",
      "Requirement already satisfied: jupyterlab-pygments in c:\\users\\useer\\anaconda3\\lib\\site-packages (from nbconvert<8.0.0,>=7.11.0->pipreqs) (0.1.2)\n",
      "Requirement already satisfied: markupsafe>=2.0 in c:\\users\\useer\\anaconda3\\lib\\site-packages (from nbconvert<8.0.0,>=7.11.0->pipreqs) (2.1.3)\n",
      "Requirement already satisfied: mistune<4,>=2.0.3 in c:\\users\\useer\\anaconda3\\lib\\site-packages (from nbconvert<8.0.0,>=7.11.0->pipreqs) (2.0.4)\n",
      "Requirement already satisfied: nbclient>=0.5.0 in c:\\users\\useer\\anaconda3\\lib\\site-packages (from nbconvert<8.0.0,>=7.11.0->pipreqs) (0.8.0)\n",
      "Requirement already satisfied: nbformat>=5.7 in c:\\users\\useer\\anaconda3\\lib\\site-packages (from nbconvert<8.0.0,>=7.11.0->pipreqs) (5.10.4)\n",
      "Requirement already satisfied: packaging in c:\\users\\useer\\anaconda3\\lib\\site-packages (from nbconvert<8.0.0,>=7.11.0->pipreqs) (24.1)\n",
      "Requirement already satisfied: pandocfilters>=1.4.1 in c:\\users\\useer\\anaconda3\\lib\\site-packages (from nbconvert<8.0.0,>=7.11.0->pipreqs) (1.5.0)\n",
      "Requirement already satisfied: tinycss2 in c:\\users\\useer\\anaconda3\\lib\\site-packages (from nbconvert<8.0.0,>=7.11.0->pipreqs) (1.2.1)\n",
      "Requirement already satisfied: six>=1.9.0 in c:\\users\\useer\\anaconda3\\lib\\site-packages (from bleach!=5.0.0->nbconvert<8.0.0,>=7.11.0->pipreqs) (1.16.0)\n",
      "Requirement already satisfied: webencodings in c:\\users\\useer\\anaconda3\\lib\\site-packages (from bleach!=5.0.0->nbconvert<8.0.0,>=7.11.0->pipreqs) (0.5.1)\n",
      "Requirement already satisfied: parso<0.9.0,>=0.8.3 in c:\\users\\useer\\anaconda3\\lib\\site-packages (from jedi>=0.16->ipython==8.12.3->pipreqs) (0.8.3)\n",
      "Requirement already satisfied: platformdirs>=2.5 in c:\\users\\useer\\anaconda3\\lib\\site-packages (from jupyter-core>=4.7->nbconvert<8.0.0,>=7.11.0->pipreqs) (3.10.0)\n",
      "Requirement already satisfied: pywin32>=300 in c:\\users\\useer\\anaconda3\\lib\\site-packages (from jupyter-core>=4.7->nbconvert<8.0.0,>=7.11.0->pipreqs) (305.1)\n",
      "Requirement already satisfied: jupyter-client>=6.1.12 in c:\\users\\useer\\anaconda3\\lib\\site-packages (from nbclient>=0.5.0->nbconvert<8.0.0,>=7.11.0->pipreqs) (8.6.0)\n",
      "Requirement already satisfied: fastjsonschema>=2.15 in c:\\users\\useer\\anaconda3\\lib\\site-packages (from nbformat>=5.7->nbconvert<8.0.0,>=7.11.0->pipreqs) (2.16.2)\n",
      "Requirement already satisfied: jsonschema>=2.6 in c:\\users\\useer\\anaconda3\\lib\\site-packages (from nbformat>=5.7->nbconvert<8.0.0,>=7.11.0->pipreqs) (4.23.0)\n",
      "Requirement already satisfied: wcwidth in c:\\users\\useer\\anaconda3\\lib\\site-packages (from prompt-toolkit!=3.0.37,<3.1.0,>=3.0.30->ipython==8.12.3->pipreqs) (0.2.5)\n",
      "Requirement already satisfied: soupsieve>1.2 in c:\\users\\useer\\anaconda3\\lib\\site-packages (from beautifulsoup4->nbconvert<8.0.0,>=7.11.0->pipreqs) (2.5)\n",
      "Requirement already satisfied: charset-normalizer<4,>=2 in c:\\users\\useer\\anaconda3\\lib\\site-packages (from requests->yarg==0.1.9->pipreqs) (3.3.2)\n",
      "Requirement already satisfied: idna<4,>=2.5 in c:\\users\\useer\\anaconda3\\lib\\site-packages (from requests->yarg==0.1.9->pipreqs) (3.7)\n",
      "Requirement already satisfied: urllib3<3,>=1.21.1 in c:\\users\\useer\\anaconda3\\lib\\site-packages (from requests->yarg==0.1.9->pipreqs) (2.2.3)\n",
      "Requirement already satisfied: certifi>=2017.4.17 in c:\\users\\useer\\anaconda3\\lib\\site-packages (from requests->yarg==0.1.9->pipreqs) (2025.1.31)\n",
      "Requirement already satisfied: executing in c:\\users\\useer\\anaconda3\\lib\\site-packages (from stack-data->ipython==8.12.3->pipreqs) (0.8.3)\n",
      "Requirement already satisfied: asttokens in c:\\users\\useer\\anaconda3\\lib\\site-packages (from stack-data->ipython==8.12.3->pipreqs) (2.0.5)\n",
      "Requirement already satisfied: pure-eval in c:\\users\\useer\\anaconda3\\lib\\site-packages (from stack-data->ipython==8.12.3->pipreqs) (0.2.2)\n",
      "Requirement already satisfied: attrs>=22.2.0 in c:\\users\\useer\\anaconda3\\lib\\site-packages (from jsonschema>=2.6->nbformat>=5.7->nbconvert<8.0.0,>=7.11.0->pipreqs) (23.1.0)\n",
      "Requirement already satisfied: jsonschema-specifications>=2023.03.6 in c:\\users\\useer\\anaconda3\\lib\\site-packages (from jsonschema>=2.6->nbformat>=5.7->nbconvert<8.0.0,>=7.11.0->pipreqs) (2023.7.1)\n",
      "Requirement already satisfied: referencing>=0.28.4 in c:\\users\\useer\\anaconda3\\lib\\site-packages (from jsonschema>=2.6->nbformat>=5.7->nbconvert<8.0.0,>=7.11.0->pipreqs) (0.30.2)\n",
      "Requirement already satisfied: rpds-py>=0.7.1 in c:\\users\\useer\\anaconda3\\lib\\site-packages (from jsonschema>=2.6->nbformat>=5.7->nbconvert<8.0.0,>=7.11.0->pipreqs) (0.10.6)\n",
      "Requirement already satisfied: python-dateutil>=2.8.2 in c:\\users\\useer\\anaconda3\\lib\\site-packages (from jupyter-client>=6.1.12->nbclient>=0.5.0->nbconvert<8.0.0,>=7.11.0->pipreqs) (2.9.0.post0)\n",
      "Requirement already satisfied: pyzmq>=23.0 in c:\\users\\useer\\anaconda3\\lib\\site-packages (from jupyter-client>=6.1.12->nbclient>=0.5.0->nbconvert<8.0.0,>=7.11.0->pipreqs) (25.1.2)\n",
      "Requirement already satisfied: tornado>=6.2 in c:\\users\\useer\\anaconda3\\lib\\site-packages (from jupyter-client>=6.1.12->nbclient>=0.5.0->nbconvert<8.0.0,>=7.11.0->pipreqs) (6.4.1)\n"
     ]
    }
   ],
   "source": [
    "!pip install pipreqs"
   ]
  },
  {
   "cell_type": "code",
   "execution_count": null,
   "id": "29099b94-3718-41cd-b00e-9889a0622f5b",
   "metadata": {},
   "outputs": [],
   "source": [
    "# below cell is an old usage; old command to create a requirements.txt file (direct dependency)\n",
    "# that's why the command produce the 'usage' feedback"
   ]
  },
  {
   "cell_type": "code",
   "execution_count": 37,
   "id": "134acd16-568d-4aba-ac22-fb925f339b67",
   "metadata": {},
   "outputs": [
    {
     "name": "stderr",
     "output_type": "stream",
     "text": [
      "Usage:\n",
      "    pipreqs [options] [<path>]\n"
     ]
    }
   ],
   "source": [
    "!pipreqs . --force --encoding=utf-8 --extra-ext=.ipynb"
   ]
  },
  {
   "cell_type": "code",
   "execution_count": 29,
   "id": "17719a29-c73a-463e-93e7-8f93e2b3b14d",
   "metadata": {},
   "outputs": [
    {
     "name": "stdout",
     "output_type": "stream",
     "text": [
      "pipreqs - Generate pip requirements.txt file based on imports\n",
      "\n",
      "Usage:\n",
      "    pipreqs [options] [<path>]\n",
      "\n",
      "Arguments:\n",
      "    <path>                The path to the directory containing the application\n",
      "                          files for which a requirements file should be\n",
      "                          generated (defaults to the current working\n",
      "                          directory).\n",
      "\n",
      "Options:\n",
      "    --use-local           Use ONLY local package info instead of querying PyPI.\n",
      "    --pypi-server <url>   Use custom PyPi server.\n",
      "    --proxy <url>         Use Proxy, parameter will be passed to requests\n",
      "                          library. You can also just set the environments\n",
      "                          parameter in your terminal:\n",
      "                          $ export HTTP_PROXY=\"http://10.10.1.10:3128\"\n",
      "                          $ export HTTPS_PROXY=\"https://10.10.1.10:1080\"\n",
      "    --debug               Print debug information\n",
      "    --ignore <dirs>...    Ignore extra directories, each separated by a comma\n",
      "    --no-follow-links     Do not follow symbolic links in the project\n",
      "    --encoding <charset>  Use encoding parameter for file open\n",
      "    --savepath <file>     Save the list of requirements in the given file\n",
      "    --print               Output the list of requirements in the standard\n",
      "                          output\n",
      "    --force               Overwrite existing requirements.txt\n",
      "    --diff <file>         Compare modules in requirements.txt to project\n",
      "                          imports\n",
      "    --clean <file>        Clean up requirements.txt by removing modules\n",
      "                          that are not imported in project\n",
      "    --mode <scheme>       Enables dynamic versioning with <compat>,\n",
      "                          <gt> or <non-pin> schemes.\n",
      "                          <compat> | e.g. Flask~=1.1.2\n",
      "                          <gt>     | e.g. Flask>=1.1.2\n",
      "                          <no-pin> | e.g. Flask\n",
      "    --scan-notebooks      Look for imports in jupyter notebook files.\n"
     ]
    }
   ],
   "source": [
    "!pipreqs --help"
   ]
  },
  {
   "cell_type": "code",
   "execution_count": null,
   "id": "b8ae2a68-8ed9-474a-bc06-66ea2ff59a3a",
   "metadata": {},
   "outputs": [],
   "source": [
    "# below cell is the new way. It works!"
   ]
  },
  {
   "cell_type": "code",
   "execution_count": 31,
   "id": "a64a3b21-bca1-4a3d-bfa2-76f6c7b7cea3",
   "metadata": {},
   "outputs": [
    {
     "name": "stderr",
     "output_type": "stream",
     "text": [
      "WARNING: Import named \"matplotlib\" not found locally. Trying to resolve it at the PyPI server.\n",
      "WARNING: Import named \"matplotlib\" was resolved to \"matplotlib:3.10.3\" package (https://pypi.org/project/matplotlib/).\n",
      "Please, verify manually the final list of requirements.txt to avoid possible dependency confusions.\n",
      "WARNING: Import named \"numpy\" not found locally. Trying to resolve it at the PyPI server.\n",
      "WARNING: Import named \"numpy\" was resolved to \"numpy:2.2.6\" package (https://pypi.org/project/numpy/).\n",
      "Please, verify manually the final list of requirements.txt to avoid possible dependency confusions.\n",
      "WARNING: Import named \"pandas\" not found locally. Trying to resolve it at the PyPI server.\n",
      "WARNING: Import named \"pandas\" was resolved to \"pandas:2.2.3\" package (https://pypi.org/project/pandas/).\n",
      "Please, verify manually the final list of requirements.txt to avoid possible dependency confusions.\n",
      "WARNING: Import named \"scikit_learn\" not found locally. Trying to resolve it at the PyPI server.\n",
      "WARNING: Import named \"scikit_learn\" was resolved to \"scikit-learn:1.6.1\" package (https://pypi.org/project/scikit-learn/).\n",
      "Please, verify manually the final list of requirements.txt to avoid possible dependency confusions.\n",
      "WARNING: Import named \"seaborn\" not found locally. Trying to resolve it at the PyPI server.\n",
      "WARNING: Import named \"seaborn\" was resolved to \"seaborn:0.13.2\" package (https://pypi.org/project/seaborn/).\n",
      "Please, verify manually the final list of requirements.txt to avoid possible dependency confusions.\n",
      "INFO: Successfully saved requirements file in .\\requirements.txt\n"
     ]
    }
   ],
   "source": [
    "!pipreqs . --force --encoding=utf-8 --scan-notebooks"
   ]
  },
  {
   "cell_type": "code",
   "execution_count": null,
   "id": "8cf33489-07ef-4d60-b82a-1d3629047d51",
   "metadata": {},
   "outputs": [],
   "source": [
    "# What the warnings mean:\n",
    "# pipreqs tried to find those packages installed locally in your environment but couldn’t.\n",
    "# So it looked them up on PyPI (the Python package index) and guessed the package name and latest version.\n",
    "# It tells you to manually verify the generated requirements.txt because sometimes the names it guesses might differ\n",
    "# from the actual package you’re using or the version might not match your environment.\n",
    "\n",
    "\n",
    "# Why might this happen?\n",
    "# You might be running Jupyter in a different Python environment than the one where those packages are installed.\n",
    "# Or your environment might have the packages installed, but pipreqs can’t detect them due to environment or path issues.\n",
    "\n",
    "# Summary:\n",
    "# The warnings are normal when pipreqs can’t confirm package info locally.\n",
    "# Just double-check your environment and the generated file.\n",
    "# If all looks good, you can safely ignore those warnings.\n",
    "\n",
    "# to check your environment \n",
    "# Check if those packages are installed in that Python environment:\n",
    "# !pip show matplotlib numpy pandas scikit-learn seaborn\n",
    "# If they show up, then pipreqs is just being cautious but your environment is fine.\n",
    "# If not, you may want to install them in that environment:\n",
    "\n"
   ]
  }
 ],
 "metadata": {
  "kernelspec": {
   "display_name": "Python 3",
   "language": "python",
   "name": "python3"
  },
  "language_info": {
   "codemirror_mode": {
    "name": "ipython",
    "version": 3
   },
   "file_extension": ".py",
   "mimetype": "text/x-python",
   "name": "python",
   "nbconvert_exporter": "python",
   "pygments_lexer": "ipython3",
   "version": "3.12.7"
  }
 },
 "nbformat": 4,
 "nbformat_minor": 5
}
