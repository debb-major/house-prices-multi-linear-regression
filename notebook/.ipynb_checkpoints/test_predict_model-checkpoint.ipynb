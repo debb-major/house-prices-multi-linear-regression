{
 "cells": [
  {
   "cell_type": "code",
   "execution_count": 9,
   "id": "fcd7a69a-bcc9-4f6a-b851-7cbd8f4ae073",
   "metadata": {},
   "outputs": [
    {
     "name": "stdout",
     "output_type": "stream",
     "text": [
      "Sample prediction: 5164653.900339673\n",
      "Mean Squared Error: 1754318687330.6643\n",
      "Model saved to model.pkl\n"
     ]
    }
   ],
   "source": [
    "!python ../test_model.py"
   ]
  },
  {
   "cell_type": "code",
   "execution_count": 11,
   "id": "e9711e56-5d3a-4954-9d1d-70d799827c6b",
   "metadata": {},
   "outputs": [
    {
     "name": "stdout",
     "output_type": "stream",
     "text": [
      "Prediction for first house: 7968276.12638738\n"
     ]
    }
   ],
   "source": [
    "!python ../predict_with_model.py"
   ]
  },
  {
   "cell_type": "code",
   "execution_count": null,
   "id": "79305921-9b72-4566-8f76-c740be5c4429",
   "metadata": {},
   "outputs": [],
   "source": []
  }
 ],
 "metadata": {
  "kernelspec": {
   "display_name": "Python 3",
   "language": "python",
   "name": "python3"
  },
  "language_info": {
   "codemirror_mode": {
    "name": "ipython",
    "version": 3
   },
   "file_extension": ".py",
   "mimetype": "text/x-python",
   "name": "python",
   "nbconvert_exporter": "python",
   "pygments_lexer": "ipython3",
   "version": "3.12.7"
  }
 },
 "nbformat": 4,
 "nbformat_minor": 5
}
